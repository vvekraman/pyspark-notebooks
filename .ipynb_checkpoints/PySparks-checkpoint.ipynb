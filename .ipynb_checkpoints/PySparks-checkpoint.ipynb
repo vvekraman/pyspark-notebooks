{
 "cells": [
  {
   "cell_type": "markdown",
   "id": "ab9ea424-68fa-40b2-9867-9f317b52b5da",
   "metadata": {},
   "source": [
    "# PySpark"
   ]
  },
  {
   "cell_type": "code",
   "execution_count": 168,
   "id": "3894b545-71c7-4d0d-a3b4-36fc6bba570c",
   "metadata": {},
   "outputs": [
    {
     "data": {
      "text/html": [
       "\n",
       "            <div>\n",
       "                <p><b>SparkSession - in-memory</b></p>\n",
       "                \n",
       "        <div>\n",
       "            <p><b>SparkContext</b></p>\n",
       "\n",
       "            <p><a href=\"http://host.docker.internal:4040\">Spark UI</a></p>\n",
       "\n",
       "            <dl>\n",
       "              <dt>Version</dt>\n",
       "                <dd><code>v3.2.1</code></dd>\n",
       "              <dt>Master</dt>\n",
       "                <dd><code>local[*]</code></dd>\n",
       "              <dt>AppName</dt>\n",
       "                <dd><code>Manipulate</code></dd>\n",
       "            </dl>\n",
       "        </div>\n",
       "        \n",
       "            </div>\n",
       "        "
      ],
      "text/plain": [
       "<pyspark.sql.session.SparkSession at 0x2905d1f94f0>"
      ]
     },
     "execution_count": 168,
     "metadata": {},
     "output_type": "execute_result"
    }
   ],
   "source": [
    "import findspark\n",
    "findspark.init()\n",
    "\n",
    "import pyspark\n",
    "from pyspark.sql import SparkSession\n",
    "\n",
    "spark = SparkSession.builder.appName(\"pyspark\").getOrCreate()\n",
    "spark"
   ]
  },
  {
   "cell_type": "markdown",
   "id": "46c1ea0d-f841-46ee-86ad-3cf6d8955bef",
   "metadata": {},
   "source": [
    "## PySpark DF Immutability"
   ]
  },
  {
   "cell_type": "code",
   "execution_count": 169,
   "id": "2ea1e8f2-3cf5-4aff-896c-e2ec3b19e4c1",
   "metadata": {},
   "outputs": [
    {
     "name": "stdout",
     "output_type": "stream",
     "text": [
      "+----------+---------+\n",
      "|first_name|last_name|\n",
      "+----------+---------+\n",
      "|         a|        b|\n",
      "|         c|        d|\n",
      "+----------+---------+\n",
      "\n"
     ]
    }
   ],
   "source": [
    "# creating a sample dataframe\n",
    "names = spark.createDataFrame([('a', 'b'), ('c', 'd')], ['first_name', 'last_name'])\n",
    "names.show()"
   ]
  },
  {
   "cell_type": "code",
   "execution_count": 170,
   "id": "80401506-8d37-4a11-862a-9f08744b1221",
   "metadata": {},
   "outputs": [
    {
     "data": {
      "text/plain": [
       "407"
      ]
     },
     "execution_count": 170,
     "metadata": {},
     "output_type": "execute_result"
    }
   ],
   "source": [
    "# showing rdd id\n",
    "names.rdd.id()"
   ]
  },
  {
   "cell_type": "markdown",
   "id": "74d10e29-9ccb-4e50-b7c3-9727bbef7291",
   "metadata": {},
   "source": [
    "### Adding Columns"
   ]
  },
  {
   "cell_type": "code",
   "execution_count": 171,
   "id": "82890865-6d49-4e92-8e06-4c271e8be3cf",
   "metadata": {},
   "outputs": [],
   "source": [
    "# adding new column\n",
    "from pyspark.sql.functions import *\n",
    "\n",
    "# concat first and last name\n",
    "# using select\n",
    "names = names.select(names.first_name, names.last_name, concat_ws(' ', names.first_name, names.last_name).alias('full_name'))\n",
    "# using withColumn\n",
    "names = names.withColumn('full_name', concat_ws(' ', names.first_name, names.last_name))"
   ]
  },
  {
   "cell_type": "code",
   "execution_count": 172,
   "id": "4002d315-05df-4a2e-8e81-5bad7ec8a9ab",
   "metadata": {},
   "outputs": [],
   "source": [
    "# using lit() to add values to the column\n",
    "names = names.withColumn('Age', lit(23))"
   ]
  },
  {
   "cell_type": "code",
   "execution_count": 173,
   "id": "930756ce-dfc3-49b3-a486-54fed9a20fe6",
   "metadata": {},
   "outputs": [
    {
     "name": "stdout",
     "output_type": "stream",
     "text": [
      "+----------+---------+---------+---+\n",
      "|first_name|last_name|full_name|Age|\n",
      "+----------+---------+---------+---+\n",
      "|         a|        b|      a b| 23|\n",
      "|         c|        d|      c d| 23|\n",
      "+----------+---------+---------+---+\n",
      "\n"
     ]
    }
   ],
   "source": [
    "names.show()"
   ]
  },
  {
   "cell_type": "code",
   "execution_count": 174,
   "id": "f64e2120-ddbd-4a2e-81d4-5a849b3c9348",
   "metadata": {},
   "outputs": [
    {
     "data": {
      "text/plain": [
       "413"
      ]
     },
     "execution_count": 174,
     "metadata": {},
     "output_type": "execute_result"
    }
   ],
   "source": [
    "# rdd id\n",
    "# manipulating the dataframe changes the rdd id - IMMUTABILITY!\n",
    "names.rdd.id()"
   ]
  },
  {
   "cell_type": "markdown",
   "id": "53526857-f5d2-4257-9909-340eda0724ed",
   "metadata": {},
   "source": [
    "PySpark RDD/DataFrame collect() is an action operation that is used to retrieve all the elements of the dataset (from all nodes) to the driver node. We should use the collect() on smaller dataset usually after filter(), group() e.t.c. Retrieving larger datasets results in OutOfMemory error."
   ]
  },
  {
   "cell_type": "code",
   "execution_count": 175,
   "id": "6d347c0d-8d08-4a92-9b9d-e188f7042f90",
   "metadata": {},
   "outputs": [],
   "source": [
    "names_list = names.collect()"
   ]
  },
  {
   "cell_type": "markdown",
   "id": "6a64f6df-2976-4abd-a497-0e3d8995803b",
   "metadata": {},
   "source": [
    "## Loading CSV"
   ]
  },
  {
   "cell_type": "code",
   "execution_count": 176,
   "id": "28c16686-9829-46b9-ac2f-dc2168a9be2b",
   "metadata": {},
   "outputs": [],
   "source": [
    "videos = spark.read.csv('Datasets/youtubevideos.csv', inferSchema = True, header = True)"
   ]
  },
  {
   "cell_type": "code",
   "execution_count": 177,
   "id": "ac7b3ed6-0fb8-4fc8-b00d-6b32e623cf08",
   "metadata": {},
   "outputs": [
    {
     "data": {
      "text/html": [
       "<div>\n",
       "<style scoped>\n",
       "    .dataframe tbody tr th:only-of-type {\n",
       "        vertical-align: middle;\n",
       "    }\n",
       "\n",
       "    .dataframe tbody tr th {\n",
       "        vertical-align: top;\n",
       "    }\n",
       "\n",
       "    .dataframe thead th {\n",
       "        text-align: right;\n",
       "    }\n",
       "</style>\n",
       "<table border=\"1\" class=\"dataframe\">\n",
       "  <thead>\n",
       "    <tr style=\"text-align: right;\">\n",
       "      <th></th>\n",
       "      <th>video_id</th>\n",
       "      <th>trending_date</th>\n",
       "      <th>title</th>\n",
       "      <th>channel_title</th>\n",
       "      <th>category_id</th>\n",
       "      <th>publish_time</th>\n",
       "      <th>tags</th>\n",
       "      <th>views</th>\n",
       "      <th>likes</th>\n",
       "      <th>dislikes</th>\n",
       "      <th>comment_count</th>\n",
       "      <th>thumbnail_link</th>\n",
       "      <th>comments_disabled</th>\n",
       "      <th>ratings_disabled</th>\n",
       "      <th>video_error_or_removed</th>\n",
       "      <th>description</th>\n",
       "    </tr>\n",
       "  </thead>\n",
       "  <tbody>\n",
       "    <tr>\n",
       "      <th>0</th>\n",
       "      <td>2kyS6SvSYSE</td>\n",
       "      <td>17.14.11</td>\n",
       "      <td>WE WANT TO TALK ABOUT OUR MARRIAGE</td>\n",
       "      <td>CaseyNeistat</td>\n",
       "      <td>22</td>\n",
       "      <td>2017-11-13T17:13:01.000Z</td>\n",
       "      <td>SHANtell martin</td>\n",
       "      <td>748374</td>\n",
       "      <td>57527</td>\n",
       "      <td>2966</td>\n",
       "      <td>15954</td>\n",
       "      <td>https://i.ytimg.com/vi/2kyS6SvSYSE/default.jpg</td>\n",
       "      <td>False</td>\n",
       "      <td>False</td>\n",
       "      <td>False</td>\n",
       "      <td>SHANTELL'S CHANNEL - https://www.youtube.com/s...</td>\n",
       "    </tr>\n",
       "    <tr>\n",
       "      <th>1</th>\n",
       "      <td>1ZAPwfrtAFY</td>\n",
       "      <td>17.14.11</td>\n",
       "      <td>The Trump Presidency: Last Week Tonight with J...</td>\n",
       "      <td>LastWeekTonight</td>\n",
       "      <td>24</td>\n",
       "      <td>2017-11-13T07:30:00.000Z</td>\n",
       "      <td>\"last week tonight trump presidency\"|\"last wee...</td>\n",
       "      <td>2418783</td>\n",
       "      <td>97185</td>\n",
       "      <td>6146</td>\n",
       "      <td>12703</td>\n",
       "      <td>https://i.ytimg.com/vi/1ZAPwfrtAFY/default.jpg</td>\n",
       "      <td>False</td>\n",
       "      <td>False</td>\n",
       "      <td>False</td>\n",
       "      <td>One year after the presidential election, John...</td>\n",
       "    </tr>\n",
       "  </tbody>\n",
       "</table>\n",
       "</div>"
      ],
      "text/plain": [
       "      video_id trending_date  \\\n",
       "0  2kyS6SvSYSE      17.14.11   \n",
       "1  1ZAPwfrtAFY      17.14.11   \n",
       "\n",
       "                                               title    channel_title  \\\n",
       "0                 WE WANT TO TALK ABOUT OUR MARRIAGE     CaseyNeistat   \n",
       "1  The Trump Presidency: Last Week Tonight with J...  LastWeekTonight   \n",
       "\n",
       "  category_id              publish_time  \\\n",
       "0          22  2017-11-13T17:13:01.000Z   \n",
       "1          24  2017-11-13T07:30:00.000Z   \n",
       "\n",
       "                                                tags    views  likes dislikes  \\\n",
       "0                                    SHANtell martin   748374  57527     2966   \n",
       "1  \"last week tonight trump presidency\"|\"last wee...  2418783  97185     6146   \n",
       "\n",
       "  comment_count                                  thumbnail_link  \\\n",
       "0         15954  https://i.ytimg.com/vi/2kyS6SvSYSE/default.jpg   \n",
       "1         12703  https://i.ytimg.com/vi/1ZAPwfrtAFY/default.jpg   \n",
       "\n",
       "  comments_disabled ratings_disabled video_error_or_removed  \\\n",
       "0             False            False                  False   \n",
       "1             False            False                  False   \n",
       "\n",
       "                                         description  \n",
       "0  SHANTELL'S CHANNEL - https://www.youtube.com/s...  \n",
       "1  One year after the presidential election, John...  "
      ]
     },
     "execution_count": 177,
     "metadata": {},
     "output_type": "execute_result"
    }
   ],
   "source": [
    "videos.limit(2).toPandas()"
   ]
  },
  {
   "cell_type": "markdown",
   "id": "93bcc36e-a5f1-4140-bee1-9998e73cba56",
   "metadata": {},
   "source": [
    "### Editing DF columns datatypes"
   ]
  },
  {
   "cell_type": "code",
   "execution_count": 178,
   "id": "c17aa29f-0185-44f8-ad99-8add91ed2695",
   "metadata": {},
   "outputs": [
    {
     "name": "stdout",
     "output_type": "stream",
     "text": [
      "root\n",
      " |-- video_id: string (nullable = true)\n",
      " |-- trending_date: string (nullable = true)\n",
      " |-- title: string (nullable = true)\n",
      " |-- channel_title: string (nullable = true)\n",
      " |-- category_id: string (nullable = true)\n",
      " |-- publish_time: string (nullable = true)\n",
      " |-- tags: string (nullable = true)\n",
      " |-- views: string (nullable = true)\n",
      " |-- likes: string (nullable = true)\n",
      " |-- dislikes: string (nullable = true)\n",
      " |-- comment_count: string (nullable = true)\n",
      " |-- thumbnail_link: string (nullable = true)\n",
      " |-- comments_disabled: string (nullable = true)\n",
      " |-- ratings_disabled: string (nullable = true)\n",
      " |-- video_error_or_removed: string (nullable = true)\n",
      " |-- description: string (nullable = true)\n",
      "\n"
     ]
    }
   ],
   "source": [
    "videos.printSchema()"
   ]
  },
  {
   "cell_type": "code",
   "execution_count": 179,
   "id": "a6e08119-a1c8-40d2-a135-ac90b89fdc3f",
   "metadata": {},
   "outputs": [],
   "source": [
    "from pyspark.sql.types import *"
   ]
  },
  {
   "cell_type": "code",
   "execution_count": 180,
   "id": "34d141e4-9e87-408e-b651-782b8f0aef13",
   "metadata": {},
   "outputs": [],
   "source": [
    "df = videos.withColumn('views', videos['views'].cast(IntegerType())) \\\n",
    "            .withColumn('likes', videos['likes'].cast(IntegerType())) \\\n",
    "            .withColumn('dislikes', videos['dislikes'].cast(IntegerType())) \\\n",
    "            .withColumn('trending_date', to_date(videos['trending_date'], 'yy.dd.MM')) \\\n",
    "            .withColumn('publish_time', to_timestamp(videos['publish_time'], \"yyyy-MM-dd'T'HH:mm:ss.SSS'Z'\")) "
   ]
  },
  {
   "cell_type": "code",
   "execution_count": 181,
   "id": "01575268-a411-4254-a2bd-48c7493d9be5",
   "metadata": {},
   "outputs": [
    {
     "name": "stdout",
     "output_type": "stream",
     "text": [
      "root\n",
      " |-- video_id: string (nullable = true)\n",
      " |-- trending_date: date (nullable = true)\n",
      " |-- title: string (nullable = true)\n",
      " |-- channel_title: string (nullable = true)\n",
      " |-- category_id: string (nullable = true)\n",
      " |-- publish_time: timestamp (nullable = true)\n",
      " |-- tags: string (nullable = true)\n",
      " |-- views: integer (nullable = true)\n",
      " |-- likes: integer (nullable = true)\n",
      " |-- dislikes: integer (nullable = true)\n",
      " |-- comment_count: string (nullable = true)\n",
      " |-- thumbnail_link: string (nullable = true)\n",
      " |-- comments_disabled: string (nullable = true)\n",
      " |-- ratings_disabled: string (nullable = true)\n",
      " |-- video_error_or_removed: string (nullable = true)\n",
      " |-- description: string (nullable = true)\n",
      "\n"
     ]
    }
   ],
   "source": [
    "df.printSchema()"
   ]
  },
  {
   "cell_type": "code",
   "execution_count": 182,
   "id": "6688c6d6-9cae-45ed-ab12-c363d9485ced",
   "metadata": {},
   "outputs": [
    {
     "name": "stderr",
     "output_type": "stream",
     "text": [
      "C:\\Users\\vivek\\anaconda3\\envs\\interview\\lib\\site-packages\\pyspark\\sql\\pandas\\conversion.py:194: FutureWarning: Passing unit-less datetime64 dtype to .astype is deprecated and will raise in a future version. Pass 'datetime64[ns]' instead\n",
      "  series = series.astype(t, copy=False)\n"
     ]
    },
    {
     "data": {
      "text/html": [
       "<div>\n",
       "<style scoped>\n",
       "    .dataframe tbody tr th:only-of-type {\n",
       "        vertical-align: middle;\n",
       "    }\n",
       "\n",
       "    .dataframe tbody tr th {\n",
       "        vertical-align: top;\n",
       "    }\n",
       "\n",
       "    .dataframe thead th {\n",
       "        text-align: right;\n",
       "    }\n",
       "</style>\n",
       "<table border=\"1\" class=\"dataframe\">\n",
       "  <thead>\n",
       "    <tr style=\"text-align: right;\">\n",
       "      <th></th>\n",
       "      <th>video_id</th>\n",
       "      <th>trending_date</th>\n",
       "      <th>title</th>\n",
       "      <th>channel_title</th>\n",
       "      <th>category_id</th>\n",
       "      <th>publish_time</th>\n",
       "      <th>tags</th>\n",
       "      <th>views</th>\n",
       "      <th>likes</th>\n",
       "      <th>dislikes</th>\n",
       "      <th>comment_count</th>\n",
       "      <th>thumbnail_link</th>\n",
       "      <th>comments_disabled</th>\n",
       "      <th>ratings_disabled</th>\n",
       "      <th>video_error_or_removed</th>\n",
       "      <th>description</th>\n",
       "    </tr>\n",
       "  </thead>\n",
       "  <tbody>\n",
       "    <tr>\n",
       "      <th>0</th>\n",
       "      <td>2kyS6SvSYSE</td>\n",
       "      <td>2017-11-14</td>\n",
       "      <td>WE WANT TO TALK ABOUT OUR MARRIAGE</td>\n",
       "      <td>CaseyNeistat</td>\n",
       "      <td>22</td>\n",
       "      <td>2017-11-13 17:13:01</td>\n",
       "      <td>SHANtell martin</td>\n",
       "      <td>748374</td>\n",
       "      <td>57527</td>\n",
       "      <td>2966</td>\n",
       "      <td>15954</td>\n",
       "      <td>https://i.ytimg.com/vi/2kyS6SvSYSE/default.jpg</td>\n",
       "      <td>False</td>\n",
       "      <td>False</td>\n",
       "      <td>False</td>\n",
       "      <td>SHANTELL'S CHANNEL - https://www.youtube.com/s...</td>\n",
       "    </tr>\n",
       "    <tr>\n",
       "      <th>1</th>\n",
       "      <td>1ZAPwfrtAFY</td>\n",
       "      <td>2017-11-14</td>\n",
       "      <td>The Trump Presidency: Last Week Tonight with J...</td>\n",
       "      <td>LastWeekTonight</td>\n",
       "      <td>24</td>\n",
       "      <td>2017-11-13 07:30:00</td>\n",
       "      <td>\"last week tonight trump presidency\"|\"last wee...</td>\n",
       "      <td>2418783</td>\n",
       "      <td>97185</td>\n",
       "      <td>6146</td>\n",
       "      <td>12703</td>\n",
       "      <td>https://i.ytimg.com/vi/1ZAPwfrtAFY/default.jpg</td>\n",
       "      <td>False</td>\n",
       "      <td>False</td>\n",
       "      <td>False</td>\n",
       "      <td>One year after the presidential election, John...</td>\n",
       "    </tr>\n",
       "  </tbody>\n",
       "</table>\n",
       "</div>"
      ],
      "text/plain": [
       "      video_id trending_date  \\\n",
       "0  2kyS6SvSYSE    2017-11-14   \n",
       "1  1ZAPwfrtAFY    2017-11-14   \n",
       "\n",
       "                                               title    channel_title  \\\n",
       "0                 WE WANT TO TALK ABOUT OUR MARRIAGE     CaseyNeistat   \n",
       "1  The Trump Presidency: Last Week Tonight with J...  LastWeekTonight   \n",
       "\n",
       "  category_id        publish_time  \\\n",
       "0          22 2017-11-13 17:13:01   \n",
       "1          24 2017-11-13 07:30:00   \n",
       "\n",
       "                                                tags    views  likes  \\\n",
       "0                                    SHANtell martin   748374  57527   \n",
       "1  \"last week tonight trump presidency\"|\"last wee...  2418783  97185   \n",
       "\n",
       "   dislikes comment_count                                  thumbnail_link  \\\n",
       "0      2966         15954  https://i.ytimg.com/vi/2kyS6SvSYSE/default.jpg   \n",
       "1      6146         12703  https://i.ytimg.com/vi/1ZAPwfrtAFY/default.jpg   \n",
       "\n",
       "  comments_disabled ratings_disabled video_error_or_removed  \\\n",
       "0             False            False                  False   \n",
       "1             False            False                  False   \n",
       "\n",
       "                                         description  \n",
       "0  SHANTELL'S CHANNEL - https://www.youtube.com/s...  \n",
       "1  One year after the presidential election, John...  "
      ]
     },
     "execution_count": 182,
     "metadata": {},
     "output_type": "execute_result"
    }
   ],
   "source": [
    "df.limit(2).toPandas()"
   ]
  },
  {
   "cell_type": "markdown",
   "id": "6d9fa851-43f9-4670-96f2-f0f69213f958",
   "metadata": {},
   "source": [
    "## Renaming a column"
   ]
  },
  {
   "cell_type": "code",
   "execution_count": 183,
   "id": "dbe797b0-a0b0-4dba-8be8-3dc0715924ad",
   "metadata": {},
   "outputs": [],
   "source": [
    "# column 'publish_time' -> 'published_time'\n",
    "df = df.withColumnRenamed('publish_time', 'published_time')"
   ]
  },
  {
   "cell_type": "code",
   "execution_count": 186,
   "id": "64281dde-3e77-4954-be46-c798a46829d5",
   "metadata": {},
   "outputs": [
    {
     "name": "stdout",
     "output_type": "stream",
     "text": [
      "+-----------+---------------+-------------------+\n",
      "|video_id   |channel_title  |published_time     |\n",
      "+-----------+---------------+-------------------+\n",
      "|2kyS6SvSYSE|CaseyNeistat   |2017-11-13 17:13:01|\n",
      "|1ZAPwfrtAFY|LastWeekTonight|2017-11-13 07:30:00|\n",
      "|5qpjK5DgCt4|Rudy Mancuso   |2017-11-12 19:05:24|\n",
      "+-----------+---------------+-------------------+\n",
      "only showing top 3 rows\n",
      "\n"
     ]
    }
   ],
   "source": [
    "df.select('video_id', 'channel_title', 'published_time').show(3, False)"
   ]
  },
  {
   "cell_type": "code",
   "execution_count": null,
   "id": "627277e4-d4bd-41e7-a7e6-0c633c3d052a",
   "metadata": {},
   "outputs": [],
   "source": []
  }
 ],
 "metadata": {
  "kernelspec": {
   "display_name": "Python (interview)",
   "language": "python",
   "name": "interview"
  },
  "language_info": {
   "codemirror_mode": {
    "name": "ipython",
    "version": 3
   },
   "file_extension": ".py",
   "mimetype": "text/x-python",
   "name": "python",
   "nbconvert_exporter": "python",
   "pygments_lexer": "ipython3",
   "version": "3.8.16"
  }
 },
 "nbformat": 4,
 "nbformat_minor": 5
}
